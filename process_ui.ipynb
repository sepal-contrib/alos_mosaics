{
 "cells": [
  {
   "cell_type": "code",
   "execution_count": null,
   "metadata": {},
   "outputs": [],
   "source": [
    "from component import model\n",
    "from component import tile"
   ]
  },
  {
   "cell_type": "code",
   "execution_count": null,
   "metadata": {},
   "outputs": [],
   "source": [
    "# define the io of your tile\n",
    "# it should be a mutable object that can be called in your tiles\n",
    "process_model = model.Process()"
   ]
  },
  {
   "cell_type": "code",
   "execution_count": null,
   "metadata": {},
   "outputs": [],
   "source": [
    "# the result tile needs to be created before the process tile\n",
    "# decide the display order of your tiles in the ui.ipynb notebook\n",
    "fao_visualization = tile.VisualizationTile(fao_aoi.view.model, process_model)\n",
    "fao_export = tile.ExportTile(fao_aoi.view.model, process_model)"
   ]
  },
  {
   "cell_type": "code",
   "execution_count": null,
   "metadata": {},
   "outputs": [],
   "source": [
    "# create the process tile\n",
    "fao_process = tile.ProcessTile(\n",
    "    process_model, fao_aoi.view.model, fao_visualization, fao_export\n",
    ")"
   ]
  },
  {
   "cell_type": "code",
   "execution_count": null,
   "metadata": {},
   "outputs": [],
   "source": [
    "# this tile will only be displayed if this very notebook is launched\n",
    "# useful for debugging\n",
    "fao_process"
   ]
  },
  {
   "cell_type": "code",
   "execution_count": null,
   "metadata": {},
   "outputs": [],
   "source": [
    "# this tile will only be displayed if this very notebook is launched\n",
    "# useful for debugging\n",
    "fao_visualization"
   ]
  },
  {
   "cell_type": "code",
   "execution_count": null,
   "metadata": {},
   "outputs": [],
   "source": [
    "fao_export"
   ]
  },
  {
   "cell_type": "code",
   "execution_count": null,
   "metadata": {},
   "outputs": [],
   "source": [
    "# to debug the io you can display it's magic __dict__ function\n",
    "# this variable will only be displayed if this very notebook is launched\n",
    "# useful for debugging\n",
    "process_model.__dict__"
   ]
  },
  {
   "cell_type": "code",
   "execution_count": null,
   "metadata": {},
   "outputs": [],
   "source": []
  }
 ],
 "metadata": {
  "kernelspec": {
   "display_name": "Python 3",
   "language": "python",
   "name": "python3"
  },
  "language_info": {
   "codemirror_mode": {
    "name": "ipython",
    "version": 3
   },
   "file_extension": ".py",
   "mimetype": "text/x-python",
   "name": "python",
   "nbconvert_exporter": "python",
   "pygments_lexer": "ipython3",
   "version": "3.6.9"
  }
 },
 "nbformat": 4,
 "nbformat_minor": 4
}
